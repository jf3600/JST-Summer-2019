{
 "cells": [
  {
   "cell_type": "code",
   "execution_count": null,
   "metadata": {},
   "outputs": [],
   "source": [
    "!pip3 install mysql-connector-python\n",
    "!pip3 install mysql-connector"
   ]
  },
  {
   "cell_type": "code",
   "execution_count": 2,
   "metadata": {},
   "outputs": [],
   "source": [
    "#import mysql.connector as sql\n",
    "import pandas as pd\n",
    "import MySQLdb as sql"
   ]
  },
  {
   "cell_type": "code",
   "execution_count": null,
   "metadata": {},
   "outputs": [],
   "source": [
    "t_db_connection = sql.connect(host='hostname', db='db_name', user='username', passwd='password')\n",
    
    "\n",
    "#home iP: 74.66.6.133\n",
    "\n",
    "t_cur1 = db_connection.cursor\n"
   ]
  },
  {
   "cell_type": "code",
   "execution_count": null,
   "metadata": {},
   "outputs": [],
   "source": []
  },
  {
   "cell_type": "code",
   "execution_count": null,
   "metadata": {},
   "outputs": [],
   "source": [
    "!pip3 install pyodbc\n",
    "import pyodbc\n",
    "import pandas as pd\n",
    "  \n",
    "# server name: EC2AMAZ-V1NLV3G\n",
    "# db name: TickerData\n",
    "# table name: dbo.TickerHistory\n",
    "# conn = pyodbc.connect(r'Driver={Microsoft Access Driver (*.mdb, *.accdb)};DBQ=C:\\Users\\Ron\\Desktop\\testdb.accdb;')\n",
    "\n",
    "q_db_connection = pyodbc.connect('Driver={SQL Server};'\n",
    "                      'Server=EC2AMAZ-V1NLV3G;'\n",
    "                      'Database=dbo.TickerHistory;'\n",
    "                      'Uid=sa;'\n",
    "                      'Pwd=JST@123'\n",
    "                      'Trusted_Connection=yes;')\n",
    "\n",
    "q_cur1 = q_db_connection.cursor()\n",
    "q_cur2 = q_db_connection.cursor()"
   ]
  },
  {
   "cell_type": "code",
   "execution_count": null,
   "metadata": {},
   "outputs": [],
   "source": []
  },
  {
   "cell_type": "code",
   "execution_count": null,
   "metadata": {},
   "outputs": [],
   "source": [
    "# THIS IS THE CELL FOR: mySQL QUERIES (trades_data)\n",
    "\n",
    "\n",
    "query_select_orders_for_allCashTrades = t_cur1.execute('''SELECT creationTime, sendTime, orderQty, filledPrice, orderStatus,\n",
    "                                  filledShares, side, lastUpdateTime, notes, session_id FROM riskmanager.child_orders\n",
    "                                  WHERE notes LIKE '%FIX%' AND filledShares>0''')\n",
    "\n",
    "\n",
    "\n",
    "\n",
    "'''select\n",
    "product_name,\n",
    "product_price_per_unit,\n",
    "units_ordered,\n",
    "((units_ordered) * (product_price_per_unit)) AS revenue\n",
    "from tracking_sales'''\n"
   ]
  },
  {
   "cell_type": "code",
   "execution_count": null,
   "metadata": {},
   "outputs": [],
   "source": [
    "# THIS IS THE CELL FOR: SQL Server QUERIES (quotes_data)\n",
    "\n",
    "\n",
    "query_select_exchangeCurrencyId_for_USD = q_cur1.execute('''SELECT * from TickerData.dbo.ExchangeCurrency\n",
    "WHERE SecondCurrencyId = 4''')\n",
    "\n",
    "\n",
    "# query: select createdDate in the sendTime range for the cash trades; \n",
    "# or include only in the trades iteration? \n",
    "query_select_bbo_from_quotes = q_cur2.execute('''SELECT ExchangeCurrencyId, Ask, Bid, Volume, CreatedDate,\n",
    "                                (Ask + Bid)/2 AS Mid\n",
    "                                FROM TickerData.dbo.TickerHistory\n",
    "                                WHERE CreatedDate BETWEEN (SELECT sendTime FROM riskmanager.child_orders \n",
    "                                WHERE notes LIKE '%FIX%' AND filledShares>0 ORDER BY sendTime ASC LIMIT 1) AND \n",
    "                                (SELECT sendTime FROM riskmanager.child_orders \n",
    "                                WHERE notes LIKE '%FIX%' AND filledShares>0 ORDER BY sendTime DESC LIMIT 1) AND \n",
    "                                ExchangeCurrencyId IN (??????? ExchangeCurrencyId_List?????)''')\n",
    "   "
   ]
  },
  {
   "cell_type": "code",
   "execution_count": null,
   "metadata": {},
   "outputs": [],
   "source": [
    "# THIS IS THE CELL FOR: DATAFRAMES\n",
    "\n",
    "\n",
    "'''df_allCashTrades = pd.DataFrame(query_select_orders_for_allCashTrades, \n",
    "                         columns=['creationTime','sendTime','orderQty','filledPrice','orderStatus',\n",
    "                                  'filledShares','side','lastUpdateTime','notes','session_id'])\n",
    "'''\n",
    "df_allCashTrades = pd.DataFrame(query_select_orders_for_allCashTrades.fetchall())\n",
    "df_allCashTrades.columns = query_select_orders_for_allCashTrades.column_names\n",
    "grouped = df_allCashTrades.groupby('notes')\n",
    "#df_allCashTrades_BTC = grouped.get_group('FIX BTC/USD')\n",
    "#df_allCashTrades_ETH = grouped.get_group('FIX ETH/USD')\n",
    "#df_allCashTrades_XRP = grouped.get_group('FIX XRP/USD')\n",
    "\n",
    "\n",
    "'''df_exchangeCurrencyId = pd.DataFrame(query_select_exchangeCurrencyId_for_USD, \n",
    "                         columns=['Id','ExchangeId', 'FirstCurrencyId', 'SecondCurrencyId','IsEnabled'])'''\n",
    "df_exchangeCurrencyId = pd.DataFrame(query_select_exchangeCurrencyId_for_USD.fetchall())\n",
    "df_exchangeCurrencyId.columns = query_select_exchangeCurrencyId_for_USD.column_names\n",
    "\n",
    "\n",
    "'''df_quotes = pd.DataFrame(query_select_bbo_from_quotes, \n",
    "                         columns=['ExchangeCurrencyId','Ask','Bid','Volume','CreatedDate'])'''\n",
    "df_quotes = pd.DataFrame(query_select_bbo_from_quotes.fetchall())   \n",
    "df_quotes.columns = query_select_bbo_from_quotes.column_names"
   ]
  },
  {
   "cell_type": "code",
   "execution_count": null,
   "metadata": {},
   "outputs": [],
   "source": [
    "trades_list = df_allCashTrades['notes'].unique()\n",
    "\n",
    "#print(trades_list) = [FIX BTC/USD, FIX XRP/USD, FIX ETH/USD]"
   ]
  },
  {
   "cell_type": "code",
   "execution_count": null,
   "metadata": {},
   "outputs": [],
   "source": [
    "# THIS IS THE CELL FOR: DICTIONARIES\n",
    "\n",
    "\n",
    "\n",
    "# create a dict for currency_name:currency_id \n",
    "currency_dict = {'BTC':1,'':2, '':3, 'USD':4, '':5, '':6, '':7, '':8}\n",
    "\n",
    "# create a dict for pairs_of_trades:list_of_exchangeCurrencyId\n",
    "\n",
    "'''df_trades_map = df_trades.set_index('firstCurrencyId') # or secondCurrencyId? CHECK\n",
    "df_trades_map.transpose()\n",
    "exchangeCurrency_dict = df_trades_map['exchangeCurrencyId'].to_dict()\n",
    "'''\n",
    "exchangeCurrency_dict= {}\n",
    "for i in df_exchangeCurrencyId['firstCurrencyId'].unique():\n",
    "    exchangeCurrency_dict[i] = [ df_exchangeCurrencyId['Id'][j] \n",
    "                                for j in df_exchangeCurrencyId[df_exchangeCurrencyId['firstCurrencyId'] ==i].index ]\n",
    "\n",
    "#print(exchangeCurrency_dict)\n"
   ]
  },
  {
   "cell_type": "code",
   "execution_count": null,
   "metadata": {},
   "outputs": [],
   "source": [
    "def slippage_for(trade): #type(trade) = string # e.g. FIX BTC/USD  \n",
    "    \n",
    "    df_cashTrades = grouped.get_group(trade)\n",
    "    start_time = df_cashTrades['sendTime'].iloc[0]\n",
    "    end_time = df_cashTrades['sendTime'].iloc[-1]\n",
    "    \n",
    "    FirstCurrencyName = trade[-7:-4]  # 'BTC', 'XRP', 'ETH'\n",
    "    FirstCurrencyId = currency_dict[FirstCurrencyName]\n",
    "    ExchangeCurrencyId_list  = exchangeCurrency_dict [FirstCurrencyId] # e.g. for BTC/USD, this is [1,3]\n",
    "    \n",
    "    q_cur = q_db_connection.cursor()\n",
    "    query = q_cur.execute('''SELECT ExchangeCurrencyId, Ask, Bid, Volume, CreatedDate,\n",
    "                                 ( ((Ask) + (Bid))/2 )  AS Mid \n",
    "                                FROM TickerData.dbo.TickerHistory\n",
    "                                WHERE CreatedDate BETWEEN start_time AND end_time''')\n",
    "    \n",
    "    df_ticker = pd.DataFrame(query.fetchall())   \n",
    "    df_ticker.columns = query.column_names\n",
    "    df_ticker.loc[df_ticker['ExchangeCurrencyId'].isin( ExchangeCurrencyId_list)]\n",
    "    # remove microsecond precision (to millisecond), add a new time column \n",
    "    # solution 1\n",
    "    df_ticker['CreatedTime'] = df_ticker['CreatedDate'].astype('datetime64[s]')\n",
    "    # solution 2 \n",
    "    #df['Time'] = df['Time'].apply(lambda x: x.replace(microsecond=0))\n",
    "    \n",
    "    slippage_other_side = 0\n",
    "    slippage_mid = 0\n",
    "    count_neg_slip = 0\n",
    "    count_pos_slip = 0\n",
    "    slippage_list = []\n",
    "    for index, row in df_cashTrades:\n",
    "        if (row['side'] == 'Buy'):\n",
    "            \n",
    "            pre_fill_ask = df_ticker[(df_ticker['CreatedTime'] == row['sendTime'])]['Ask'].mean()\n",
    "            \n",
    "            if ( (pre_fill_ask - row['filledPrice']) < 0 ): \n",
    "                count_neg_slip += 1\n",
    "            elif ( (pre_fill_ask - row['filledPrice']) > 0 ):\n",
    "                count_pos_slip += 1\n",
    "            \n",
    "            slippage_list.append( pre_fill_ask - row['filledPrice'] )\n",
    "            slippage_other_side += abs(pre_fill_ask - row['filledPrice'])\n",
    "            \n",
    "        \n",
    "        elif (row['side'] == 'Sell'):\n",
    "            \n",
    "            pre_fill_bid = df_ticker[(df_ticker['CreatedTime'] == row['sendTime'])]['Bid'].mean() \n",
    "            \n",
    "            if ( ( row['filledPrice'] - pre_fill_bid ) < 0 ): \n",
    "                count_neg_slip += 1\n",
    "            elif ( (row['filledPrice'] - pre_fill_bid) > 0 ):\n",
    "                count_pos_slip += 1\n",
    "            \n",
    "            slippage_list.append( row['filledPrice'] - pre_fill_bid )\n",
    "            slippage_other_side += abs(pre_fill_bid - row['filledPrice'])\n",
    "            \n",
    "        pre_fill_mid = df_ticker[(df_ticker['CreatedTime'] == row['sendTime'])]['Mid'].mean() \n",
    "        slippage_mid += abs(pre_fill_mid - row['filledPrice'])   \n",
    "         \n",
    "         # for mid,\n",
    "         # take rows from df_ticker where createdDate = row['sendTime']\n",
    "         # compute the corresponding avg_mid = avg(Mid), and take slippage_mid = row['filledPrice']-avg_mid\n",
    "    \n",
    "    return slippage_mid, slippage_other_side, slippage_stats"
   ]
  },
  {
   "cell_type": "code",
   "execution_count": null,
   "metadata": {},
   "outputs": [],
   "source": [
    "import seaborn as sns\n",
    "\n",
    "mid, other_side, stats = slippage_for('FIX BTC/USD')\n",
    "sns.set_style('darkgrid')\n",
    "sns.distplot(stats)"
   ]
  },
  {
   "cell_type": "code",
   "execution_count": null,
   "metadata": {},
   "outputs": [],
   "source": []
  },
  {
   "cell_type": "code",
   "execution_count": null,
   "metadata": {},
   "outputs": [],
   "source": []
  },
  {
   "cell_type": "code",
   "execution_count": null,
   "metadata": {},
   "outputs": [],
   "source": []
  },
  {
   "cell_type": "code",
   "execution_count": null,
   "metadata": {},
   "outputs": [],
   "source": [
    "# EVERYTHING BELOW IS STANBY/ILLUSTRATION"
   ]
  },
  {
   "cell_type": "code",
   "execution_count": null,
   "metadata": {},
   "outputs": [],
   "source": [
    "# JUST AN EXAMPLE FOR DICT\n",
    "\n",
    "\n",
    "from pandas import DataFrame\n",
    "\n",
    "df = DataFrame([['A', 123, 1], ['B', 345, 5], ['C', 712, 4], ['B', 768, 2], ['A', 318, 9], ['C', 178, 6], ['A', 321, 3]], columns=['name', 'value1', 'value2'])\n",
    "\n",
    "d = {}\n",
    "for i in df['name'].unique():\n",
    "    d[i] = [{df['value1'][j]: df['value2'][j]} for j in df[df['name']==i].index]\n",
    "\n",
    "print(df)\n",
    "print(d)"
   ]
  },
  {
   "cell_type": "code",
   "execution_count": null,
   "metadata": {},
   "outputs": [],
   "source": [
    "# STANDBY. GIVES A LIST OF all ExchangeCurrencyId's or ExchangeCurrencyId's for respective crypto\n",
    "\n",
    "\n",
    "ExchangeCurrencyId_List = []\n",
    "\n",
    "for trade in trades_list: # type(trades) = string\n",
    "  \n",
    "    \n",
    "    FirstCurrencyName = trade[-7:-4]  # 'BTC', 'XRP', 'ETH'\n",
    "    \n",
    "    FirstCurrencyId = currency_dict[FirstCurrencyName]  \n",
    "    \n",
    "    ExchangeCurrencyId_list  = exchangeCurrency_dict [FirstCurrencyId] \n",
    "    \n",
    "    ExchangeCurrencyId_List.extend(ExchangeCurrencyId_list)\n",
    "    \n",
    "    \n",
    "    \n",
    "    \n",
    "    "
   ]
  },
  {
   "cell_type": "code",
   "execution_count": 3,
   "metadata": {},
   "outputs": [
    {
     "data": {
      "text/html": [
       "<div>\n",
       "<style scoped>\n",
       "    .dataframe tbody tr th:only-of-type {\n",
       "        vertical-align: middle;\n",
       "    }\n",
       "\n",
       "    .dataframe tbody tr th {\n",
       "        vertical-align: top;\n",
       "    }\n",
       "\n",
       "    .dataframe thead th {\n",
       "        text-align: right;\n",
       "    }\n",
       "</style>\n",
       "<table border=\"1\" class=\"dataframe\">\n",
       "  <thead>\n",
       "    <tr style=\"text-align: right;\">\n",
       "      <th></th>\n",
       "      <th>first_name</th>\n",
       "      <th>nationality</th>\n",
       "      <th>age</th>\n",
       "    </tr>\n",
       "  </thead>\n",
       "  <tbody>\n",
       "    <tr>\n",
       "      <th>0</th>\n",
       "      <td>Jason</td>\n",
       "      <td>USA</td>\n",
       "      <td>42</td>\n",
       "    </tr>\n",
       "    <tr>\n",
       "      <th>1</th>\n",
       "      <td>Molly</td>\n",
       "      <td>USA</td>\n",
       "      <td>52</td>\n",
       "    </tr>\n",
       "    <tr>\n",
       "      <th>2</th>\n",
       "      <td>NaN</td>\n",
       "      <td>France</td>\n",
       "      <td>36</td>\n",
       "    </tr>\n",
       "    <tr>\n",
       "      <th>3</th>\n",
       "      <td>NaN</td>\n",
       "      <td>UK</td>\n",
       "      <td>24</td>\n",
       "    </tr>\n",
       "    <tr>\n",
       "      <th>4</th>\n",
       "      <td>NaN</td>\n",
       "      <td>UK</td>\n",
       "      <td>70</td>\n",
       "    </tr>\n",
       "  </tbody>\n",
       "</table>\n",
       "</div>"
      ],
      "text/plain": [
       "  first_name nationality  age\n",
       "0      Jason         USA   42\n",
       "1      Molly         USA   52\n",
       "2        NaN      France   36\n",
       "3        NaN          UK   24\n",
       "4        NaN          UK   70"
      ]
     },
     "execution_count": 3,
     "metadata": {},
     "output_type": "execute_result"
    }
   ],
   "source": [
    "import  numpy as np\n",
    "raw_data = {'first_name': ['Jason', 'Molly', np.nan, np.nan, np.nan], \n",
    "        'nationality': ['USA', 'USA', 'France', 'UK', 'UK'], \n",
    "        'age': [42, 52, 36, 24, 70]}\n",
    "df = pd.DataFrame(raw_data, columns = ['first_name', 'nationality', 'age'])\n",
    "df"
   ]
  },
  {
   "cell_type": "code",
   "execution_count": 9,
   "metadata": {},
   "outputs": [
    {
     "data": {
      "text/html": [
       "<div>\n",
       "<style scoped>\n",
       "    .dataframe tbody tr th:only-of-type {\n",
       "        vertical-align: middle;\n",
       "    }\n",
       "\n",
       "    .dataframe tbody tr th {\n",
       "        vertical-align: top;\n",
       "    }\n",
       "\n",
       "    .dataframe thead th {\n",
       "        text-align: right;\n",
       "    }\n",
       "</style>\n",
       "<table border=\"1\" class=\"dataframe\">\n",
       "  <thead>\n",
       "    <tr style=\"text-align: right;\">\n",
       "      <th></th>\n",
       "      <th>first_name</th>\n",
       "      <th>nationality</th>\n",
       "      <th>age</th>\n",
       "    </tr>\n",
       "  </thead>\n",
       "  <tbody>\n",
       "    <tr>\n",
       "      <th>0</th>\n",
       "      <td>Jason</td>\n",
       "      <td>USA</td>\n",
       "      <td>42</td>\n",
       "    </tr>\n",
       "    <tr>\n",
       "      <th>1</th>\n",
       "      <td>Molly</td>\n",
       "      <td>USA</td>\n",
       "      <td>52</td>\n",
       "    </tr>\n",
       "  </tbody>\n",
       "</table>\n",
       "</div>"
      ],
      "text/plain": [
       "  first_name nationality  age\n",
       "0      Jason         USA   42\n",
       "1      Molly         USA   52"
      ]
     },
     "execution_count": 9,
     "metadata": {},
     "output_type": "execute_result"
    }
   ],
   "source": [
    "new_df = df[df['first_name'].notnull() & (df['nationality'] == \"USA\")]\n",
    "new_df['age'].mean()"
   ]
  },
  {
   "cell_type": "code",
   "execution_count": 4,
   "metadata": {},
   "outputs": [
    {
     "data": {
      "text/plain": [
       "<matplotlib.axes._subplots.AxesSubplot at 0x1a14a36080>"
      ]
     },
     "execution_count": 4,
     "metadata": {},
     "output_type": "execute_result"
    },
    {
     "data": {
      "image/png": "[encoded data removed]",
      "text/plain": [
       "<Figure size 432x288 with 1 Axes>"
      ]
     },
     "metadata": {},
     "output_type": "display_data"
    }
   ],
   "source": [
    "import numpy as np\n",
    "import seaborn as sns\n",
    "\n",
    "np.random.seed(444)\n",
    "np.set_printoptions(precision=3)\n",
    "d = np.random.laplace(loc=15, scale=3, size=500)\n",
    "d[:10]\n",
    "\n",
    "sns.set_style('darkgrid')\n",
    "sns.distplot(d)"
   ]
  },
  {
   "cell_type": "code",
   "execution_count": null,
   "metadata": {},
   "outputs": [],
   "source": []
  }
 ],
 "metadata": {
  "kernelspec": {
   "display_name": "Python [conda env:root] *",
   "language": "python",
   "name": "conda-root-py"
  },
  "language_info": {
   "codemirror_mode": {
    "name": "ipython",
    "version": 3
   },
   "file_extension": ".py",
   "mimetype": "text/x-python",
   "name": "python",
   "nbconvert_exporter": "python",
   "pygments_lexer": "ipython3",
   "version": "3.7.1"
  }
 },
 "nbformat": 4,
 "nbformat_minor": 2
}
